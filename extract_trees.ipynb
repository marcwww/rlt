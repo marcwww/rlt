{
 "cells": [
  {
   "cell_type": "markdown",
   "metadata": {},
   "source": [
    "### Example code for extracting trees from a trained model file."
   ]
  },
  {
   "cell_type": "code",
   "execution_count": 28,
   "metadata": {},
   "outputs": [],
   "source": [
    "import torch\n",
    "from snli.model import SNLIModel\n",
    "from utils.vocab import Vocab"
   ]
  },
  {
   "cell_type": "code",
   "execution_count": 29,
   "metadata": {
    "scrolled": true
   },
   "outputs": [
    {
     "data": {
      "text/plain": [
       "SNLIModel(\n",
       "  (word_embedding): Embedding(37285, 300)\n",
       "  (encoder): BinaryTreeLSTM(\n",
       "    (leaf_rnn_cell): LSTMCell(300, 300)\n",
       "    (treelstm_layer): BinaryTreeLSTMLayer(\n",
       "      (comp_linear): Linear(in_features=600, out_features=1500, bias=True)\n",
       "    )\n",
       "  )\n",
       "  (classifier): SNLIClassifier(\n",
       "    (bn_mlp_input): BatchNorm1d(1200, eps=1e-05, momentum=0.1, affine=True, track_running_stats=True)\n",
       "    (bn_mlp_output): BatchNorm1d(1024, eps=1e-05, momentum=0.1, affine=True, track_running_stats=True)\n",
       "    (dropout): Dropout(p=0)\n",
       "    (mlp): Sequential(\n",
       "      (0): Sequential(\n",
       "        (0): Linear(in_features=1200, out_features=1024, bias=True)\n",
       "        (1): ReLU()\n",
       "      )\n",
       "    )\n",
       "    (clf_linear): Linear(in_features=1024, out_features=3, bias=True)\n",
       "  )\n",
       "  (dropout): Dropout(p=0)\n",
       ")"
      ]
     },
     "execution_count": 29,
     "metadata": {},
     "output_type": "execute_result"
    }
   ],
   "source": [
    "torch.set_grad_enabled(False)\n",
    "vocab = Vocab.from_file('pretrained/snli_vocab.txt', add_pad=True, add_unk=True)\n",
    "model = SNLIModel(num_classes=3, num_words=len(vocab), word_dim=300, hidden_dim=300,\n",
    "                  clf_hidden_dim=1024, clf_num_layers=1, bidirectional=False, dropout_prob=0,\n",
    "                  use_leaf_rnn=True, intra_attention=False, use_batchnorm=True)\n",
    "model.load_state_dict(torch.load('pretrained/snli_300d.pkl', map_location='cpu'))\n",
    "model.eval()"
   ]
  },
  {
   "cell_type": "code",
   "execution_count": 30,
   "metadata": {},
   "outputs": [
    {
     "data": {
      "text/plain": [
       "[tensor([[1., 0.]])]"
      ]
     },
     "execution_count": 30,
     "metadata": {},
     "output_type": "execute_result"
    }
   ],
   "source": [
    "def prepare_input(sent_words):\n",
    "    word_ids = torch.LongTensor([[vocab.word_to_id(w) for w in sent_words]])\n",
    "    length = torch.LongTensor([len(sent_words)])\n",
    "    word_ids_emb = model.word_embedding(word_ids)\n",
    "    return word_ids_emb, length\n",
    "\n",
    "model.encoder.forward(*prepare_input(['a', 'b', 'c']), return_select_masks=True)[2]"
   ]
  },
  {
   "cell_type": "code",
   "execution_count": 32,
   "metadata": {},
   "outputs": [
    {
     "data": {
      "text/plain": [
       "'( ( ( ( two kids ) are ) running ) ( down ( a ( highway . ) ) ) )'"
      ]
     },
     "execution_count": 32,
     "metadata": {},
     "output_type": "execute_result"
    }
   ],
   "source": [
    "from nltk.tokenize import word_tokenize\n",
    "\n",
    "def to_tree_str(sentence):\n",
    "    words = word_tokenize(sentence.lower())\n",
    "    enc_input, enc_length = prepare_input(words)\n",
    "    selections = model.encoder.forward(enc_input, enc_length, return_select_masks=True)[2]\n",
    "    selections = [s[0].max(0)[1] for s in selections] + [0]\n",
    "    tokens = words.copy()\n",
    "    for i in selections:\n",
    "        composed = f'( {tokens[i]} {tokens[i+1]} )'\n",
    "        del tokens[i:i+2]\n",
    "        tokens.insert(i, composed)\n",
    "    assert len(tokens) == 1\n",
    "    return tokens[0]\n",
    "\n",
    "to_tree_str('Two kids are running down a highway.')"
   ]
  }
 ],
 "metadata": {
  "kernelspec": {
   "display_name": "Python 3",
   "language": "python",
   "name": "python3"
  },
  "language_info": {
   "codemirror_mode": {
    "name": "ipython",
    "version": 3
   },
   "file_extension": ".py",
   "mimetype": "text/x-python",
   "name": "python",
   "nbconvert_exporter": "python",
   "pygments_lexer": "ipython3",
   "version": "3.6.6"
  }
 },
 "nbformat": 4,
 "nbformat_minor": 2
}
